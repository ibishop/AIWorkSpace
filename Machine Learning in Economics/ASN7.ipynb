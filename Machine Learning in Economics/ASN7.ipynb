{
 "cells": [
  {
   "cell_type": "markdown",
   "metadata": {
    "collapsed": true
   },
   "source": [
    "8.9. This problem involves the OJ data set which is part of the ISLR package.\n",
    "\n",
    "(a) Create a training set containing a random sample of 800 observations, and a test set containing the remaining observations. \n",
    "\n",
    "(b) Fit a tree to the training data, with Purchase as the response and the other variables as predictors. Use the summary() function to produce summary statistics about the tree, and describe the results obtained. What is the training error rate? How many terminal nodes does the tree have? \n",
    "\n",
    "(c) Type in the name of the tree object in order to get a detailed text output. Pick one of the terminal nodes, and interpret the information displayed. \n",
    "\n",
    "(d) Create a plot of the tree, and interpret the results. \n",
    "(e) Predict the response on the test data, and produce a confusion matrix comparing the test labels to the predicted test labels. What is the test error rate? \n",
    "\n",
    "(f) Apply the cv.tree() function to the training set in order to determine the optimal tree size. \n",
    "\n",
    "(g) Produce a plot with tree size on the x-axis and cross-validated classiﬁcation error rate on the y-axis. \n",
    "\n",
    "(h) Which tree size corresponds to the lowest cross-validated classiﬁcation error rate? \n",
    "\n",
    "(i) Produce a pruned tree corresponding to the optimal tree size obtained using cross-validation. If cross-validation does not lead to selection of a pruned tree, then create a pruned tree with ﬁve terminal nodes. \n",
    "\n",
    "(j) Compare the training error rates between the pruned and unpruned trees. Which is higher? \n",
    "\n",
    "(k) Compare the test error rates between the pruned and unpruned trees. Which is higher?\n"
   ]
  },
  {
   "cell_type": "code",
   "execution_count": null,
   "metadata": {},
   "outputs": [],
   "source": []
  }
 ],
 "metadata": {
  "kernelspec": {
   "display_name": "Python 2",
   "language": "python",
   "name": "python2"
  },
  "language_info": {
   "codemirror_mode": {
    "name": "ipython",
    "version": 2
   },
   "file_extension": ".py",
   "mimetype": "text/x-python",
   "name": "python",
   "nbconvert_exporter": "python",
   "pygments_lexer": "ipython2",
   "version": "2.7.6"
  }
 },
 "nbformat": 4,
 "nbformat_minor": 0
}
