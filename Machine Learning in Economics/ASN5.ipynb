{
 "cells": [
  {
   "cell_type": "markdown",
   "metadata": {
    "collapsed": true
   },
   "source": [
    "# ASSIGNMENT 5\n",
    "\n",
    "Chapter 6, Question 9\n",
    "6. a) Split into training and test sit\n",
    "   \n",
    "   b) Run OLS on training set and report the test error\n",
    "   \n",
    "   c)Fit ridge regression with $\\lambda$ chosen by CV. Report the test error\n",
    "   \n",
    "   d)Fit a lasso model on the training set with $\\lambda$ chosen by CV. Report the test error.\n",
    "   \n",
    "   e)Fit PCR on the training set, with M chosen by cross-validation. Report test and M\n",
    "   \n",
    "   f)Fit PLS model , on the training set, with M chosen by cross-validation. Report test error and M\n",
    "   \n",
    "   g)Comment on the result obtained, how accuratley can we predict MedianValue.\n",
    "   \n",
    "  # A) Split into training and test"
   ]
  },
  {
   "cell_type": "code",
   "execution_count": null,
   "metadata": {},
   "outputs": [
    {
     "data": {
      "text/html": [
       "<div>\n",
       "<style scoped>\n",
       "    .dataframe tbody tr th:only-of-type {\n",
       "        vertical-align: middle;\n",
       "    }\n",
       "\n",
       "    .dataframe tbody tr th {\n",
       "        vertical-align: top;\n",
       "    }\n",
       "\n",
       "    .dataframe thead th {\n",
       "        text-align: right;\n",
       "    }\n",
       "</style>\n",
       "<table border=\"1\" class=\"dataframe\">\n",
       "  <thead>\n",
       "    <tr style=\"text-align: right;\">\n",
       "      <th></th>\n",
       "      <th>CRIM</th>\n",
       "      <th>ZN</th>\n",
       "      <th>INDUS</th>\n",
       "      <th>CHAS</th>\n",
       "      <th>NOX</th>\n",
       "      <th>RM</th>\n",
       "      <th>AGE</th>\n",
       "      <th>DIS</th>\n",
       "      <th>RAD</th>\n",
       "      <th>TAX</th>\n",
       "      <th>PTRATIO</th>\n",
       "      <th>B</th>\n",
       "      <th>LSTAT</th>\n",
       "      <th>MedVal</th>\n",
       "    </tr>\n",
       "  </thead>\n",
       "  <tbody>\n",
       "    <tr>\n",
       "      <th>0</th>\n",
       "      <td>0.00632</td>\n",
       "      <td>18.0</td>\n",
       "      <td>2.31</td>\n",
       "      <td>0.0</td>\n",
       "      <td>0.538</td>\n",
       "      <td>6.575</td>\n",
       "      <td>65.2</td>\n",
       "      <td>4.0900</td>\n",
       "      <td>1.0</td>\n",
       "      <td>296.0</td>\n",
       "      <td>15.3</td>\n",
       "      <td>396.90</td>\n",
       "      <td>4.98</td>\n",
       "      <td>24.0</td>\n",
       "    </tr>\n",
       "    <tr>\n",
       "      <th>1</th>\n",
       "      <td>0.02731</td>\n",
       "      <td>0.0</td>\n",
       "      <td>7.07</td>\n",
       "      <td>0.0</td>\n",
       "      <td>0.469</td>\n",
       "      <td>6.421</td>\n",
       "      <td>78.9</td>\n",
       "      <td>4.9671</td>\n",
       "      <td>2.0</td>\n",
       "      <td>242.0</td>\n",
       "      <td>17.8</td>\n",
       "      <td>396.90</td>\n",
       "      <td>9.14</td>\n",
       "      <td>21.6</td>\n",
       "    </tr>\n",
       "    <tr>\n",
       "      <th>2</th>\n",
       "      <td>0.02729</td>\n",
       "      <td>0.0</td>\n",
       "      <td>7.07</td>\n",
       "      <td>0.0</td>\n",
       "      <td>0.469</td>\n",
       "      <td>7.185</td>\n",
       "      <td>61.1</td>\n",
       "      <td>4.9671</td>\n",
       "      <td>2.0</td>\n",
       "      <td>242.0</td>\n",
       "      <td>17.8</td>\n",
       "      <td>392.83</td>\n",
       "      <td>4.03</td>\n",
       "      <td>34.7</td>\n",
       "    </tr>\n",
       "    <tr>\n",
       "      <th>3</th>\n",
       "      <td>0.03237</td>\n",
       "      <td>0.0</td>\n",
       "      <td>2.18</td>\n",
       "      <td>0.0</td>\n",
       "      <td>0.458</td>\n",
       "      <td>6.998</td>\n",
       "      <td>45.8</td>\n",
       "      <td>6.0622</td>\n",
       "      <td>3.0</td>\n",
       "      <td>222.0</td>\n",
       "      <td>18.7</td>\n",
       "      <td>394.63</td>\n",
       "      <td>2.94</td>\n",
       "      <td>33.4</td>\n",
       "    </tr>\n",
       "    <tr>\n",
       "      <th>4</th>\n",
       "      <td>0.06905</td>\n",
       "      <td>0.0</td>\n",
       "      <td>2.18</td>\n",
       "      <td>0.0</td>\n",
       "      <td>0.458</td>\n",
       "      <td>7.147</td>\n",
       "      <td>54.2</td>\n",
       "      <td>6.0622</td>\n",
       "      <td>3.0</td>\n",
       "      <td>222.0</td>\n",
       "      <td>18.7</td>\n",
       "      <td>396.90</td>\n",
       "      <td>5.33</td>\n",
       "      <td>36.2</td>\n",
       "    </tr>\n",
       "  </tbody>\n",
       "</table>\n",
       "</div>"
      ],
      "text/plain": [
       "      CRIM    ZN  INDUS  CHAS    NOX     RM   AGE     DIS  RAD    TAX  \\\n",
       "0  0.00632  18.0   2.31   0.0  0.538  6.575  65.2  4.0900  1.0  296.0   \n",
       "1  0.02731   0.0   7.07   0.0  0.469  6.421  78.9  4.9671  2.0  242.0   \n",
       "2  0.02729   0.0   7.07   0.0  0.469  7.185  61.1  4.9671  2.0  242.0   \n",
       "3  0.03237   0.0   2.18   0.0  0.458  6.998  45.8  6.0622  3.0  222.0   \n",
       "4  0.06905   0.0   2.18   0.0  0.458  7.147  54.2  6.0622  3.0  222.0   \n",
       "\n",
       "   PTRATIO       B  LSTAT  MedVal  \n",
       "0     15.3  396.90   4.98    24.0  \n",
       "1     17.8  396.90   9.14    21.6  \n",
       "2     17.8  392.83   4.03    34.7  \n",
       "3     18.7  394.63   2.94    33.4  \n",
       "4     18.7  396.90   5.33    36.2  "
      ]
     },
     "execution_count": 122,
     "metadata": {},
     "output_type": "execute_result"
    }
   ],
   "source": [
    "from sklearn import datasets\n",
    "import seaborn as sns\n",
    "import numpy as np \n",
    "import matplotlib.pyplot as plt\n",
    "import seaborn as sns\n",
    "import pandas as pd\n",
    "import warnings\n",
    "warnings.filterwarnings('ignore')\n",
    "from sklearn.linear_model import LinearRegression\n",
    "import statsmodels.api as sm\n",
    "from sklearn.model_selection import train_test_split\n",
    "import statsmodels.formula.api as smf\n",
    "from sklearn.metrics import mean_squared_error\n",
    "\n",
    "\n",
    "boston = datasets.load_boston()\n",
    "X = pd.DataFrame( boston.data)\n",
    "y = pd.DataFrame(boston.target)\n",
    "X.columns = boston.feature_names\n",
    "X[\"MedVal\"] =y\n",
    "\n",
    "training_set,test_set = train_test_split(X, test_size=0.2,random_state=42)\n",
    "X.head()"
   ]
  },
  {
   "cell_type": "markdown",
   "metadata": {},
   "source": [
    "# B) Run OLS on the training and report test error"
   ]
  },
  {
   "cell_type": "code",
   "execution_count": 123,
   "metadata": {},
   "outputs": [
    {
     "name": "stdout",
     "output_type": "stream",
     "text": [
      "Test MSE: 29.04404335035871\n"
     ]
    }
   ],
   "source": [
    "params = list( X.columns[0:13])\n",
    "target = \"MedVal\"\n",
    "reg = sm.OLS(training_set[target],training_set[params]).fit()\n",
    "y_hat = reg.predict(test_set[params])\n",
    "error_ols = mean_squared_error(test_set[target], y_hat)\n",
    "print(\"Test MSE: \" + str(error_ols))"
   ]
  },
  {
   "cell_type": "markdown",
   "metadata": {},
   "source": [
    "# C)Fit ridge regression with  λ  chosen by CV. Report the test error"
   ]
  },
  {
   "cell_type": "code",
   "execution_count": 124,
   "metadata": {},
   "outputs": [
    {
     "name": "stdout",
     "output_type": "stream",
     "text": [
      "Test MSE: 24.42849154209667\n",
      "Lambda: 0.01604198396793587\n"
     ]
    }
   ],
   "source": [
    "from sklearn.linear_model import RidgeCV\n",
    "\n",
    "alphas = np.linspace(.00001, 2, 500)\n",
    "ridgecv = RidgeCV(alphas = alphas, scoring = 'neg_mean_squared_error', normalize = True)\n",
    "ridgecv.fit(training_set[params],training_set[target])\n",
    "ridge_predict = ridgecv.predict(test_set[params])\n",
    "error_ridge = mean_squared_error(test_set[target], ridge_predict)\n",
    "print(\"Test MSE: \" + str(error_ridge))\n",
    "print(\"Lambda: \" + str(ridgecv.alpha_))"
   ]
  },
  {
   "cell_type": "markdown",
   "metadata": {},
   "source": [
    "# D)Fit a lasso model on the training set with $\\lambda$ chosen by CV. Report the test error and lambda."
   ]
  },
  {
   "cell_type": "code",
   "execution_count": 125,
   "metadata": {},
   "outputs": [
    {
     "name": "stdout",
     "output_type": "stream",
     "text": [
      "Test MSE: 24.29179936268873\n",
      "Lambda: 1e-05\n"
     ]
    }
   ],
   "source": [
    "from sklearn.linear_model import LassoCV\n",
    "lassocv = LassoCV(alphas = alphas, cv=20,max_iter=10000,normalize=True).fit(training_set[params], training_set[target])\n",
    "lasso_predict = lassocv.predict(test_set[params])\n",
    "error_lasso  = mean_squared_error(test_set[target], lasso_predict)\n",
    "print(\"Test MSE: \" + str(error_lasso))\n",
    "print(\"Lambda: \" + str(lassocv.alpha_))"
   ]
  },
  {
   "cell_type": "markdown",
   "metadata": {},
   "source": [
    "# E) Fit PCR with CV, Report test error and M\n",
    "\n",
    "Note: StackExchange was invaluable here\n",
    "\n",
    "In python, we don't have cross validation and PCR in the nice package. So instead it has to be done manually. The standard way to do this is to chain together operations in a \"pipeline\".\n"
   ]
  },
  {
   "cell_type": "code",
   "execution_count": 126,
   "metadata": {},
   "outputs": [],
   "source": [
    "from sklearn.preprocessing import scale\n",
    "from sklearn.decomposition import PCA\n",
    "from sklearn.linear_model import LinearRegression\n",
    "from sklearn.pipeline import Pipeline\n",
    "from sklearn.model_selection import GridSearchCV\n",
    "from sklearn.preprocessing import FunctionTransformer\n",
    "from sklearn.base import BaseEstimator, TransformerMixin\n",
    "\n",
    "#Scaling the data\n",
    "X_scaled = scale(training_set[params])\n",
    "y_scaled = scale(training_set[target])\n",
    "\n",
    "X_test_scaled = scale(test_set[params])\n",
    "y_test_scaled = scale(test_set[target])\n"
   ]
  },
  {
   "cell_type": "markdown",
   "metadata": {},
   "source": [
    "So I finally figured it out using a hack. Creating a selectColumns function with a n_columns param is actually really hard. Theres all kinds of weird inheritence that goes on, strictly speaking it is called duck typing and I don't understand it. Instead I run PCA EVERY SINGLE TIME during cross validation, but with a different n_components value."
   ]
  },
  {
   "cell_type": "code",
   "execution_count": 137,
   "metadata": {},
   "outputs": [
    {
     "name": "stdout",
     "output_type": "stream",
     "text": [
      "Best parameter (CV score=0.683):\n",
      "{'pca__n_components': 13}\n",
      "Test MSE: 27.406836284337277\n"
     ]
    }
   ],
   "source": [
    "from sklearn.metrics import mean_squared_error\n",
    " \n",
    "linear = LinearRegression()\n",
    "pca = PCA()\n",
    "\n",
    "pipe = Pipeline(steps=[('pca', pca), ('linear', linear)])\n",
    "#Setting up parameter grid, a dictionary, Note: Naming of string is imporant \n",
    "param_grid = {\n",
    "    'pca__n_components': [1,2,3,4,5,6,7,8,9,10,11,12,13],\n",
    "}\n",
    "\n",
    "\n",
    "\n",
    "search = GridSearchCV(pipe, param_grid, iid=False, cv=20,return_train_score=False)\n",
    "search.fit(X_scaled, training_set[target])\n",
    "print(\"Best parameter (CV score=%0.3f):\" % search.best_score_)\n",
    "print(search.best_params_)\n",
    "\n",
    "error_pcr =mean_squared_error(search.best_estimator_.predict(X_test_scaled), test_set[target])\n",
    "\n",
    "print(\"Test MSE: \" + str(error_pcr))\n"
   ]
  },
  {
   "cell_type": "markdown",
   "metadata": {},
   "source": [
    "# F) Fit PLS with CV, Report test error and M\n",
    "\n",
    "An issue I ran into here is that the string 'pls__n_components' actually provides information. Misspecifying it results in an error.\n"
   ]
  },
  {
   "cell_type": "code",
   "execution_count": 136,
   "metadata": {},
   "outputs": [
    {
     "name": "stdout",
     "output_type": "stream",
     "text": [
      "Best parameter (CV score=0.683):\n",
      "{'n_components': 8}\n",
      "Test MSE: 27.58066477982635\n"
     ]
    }
   ],
   "source": [
    "from sklearn.cross_decomposition import PLSRegression\n",
    "pls = PLSRegression()\n",
    "\n",
    "param_grid = {\n",
    "    'n_components': [2,3,4,5,6,7,8,9,10,11,12],\n",
    "}\n",
    "\n",
    "\n",
    "search_pls = GridSearchCV(pls , param_grid, iid=False, cv=20,return_train_score=False)\n",
    "search_pls.fit(X_scaled, training_set[target])\n",
    "\n",
    "print(\"Best parameter (CV score=%0.3f):\" % search_pls.best_score_)\n",
    "print(search_pls.best_params_)\n",
    "\n",
    "error_pls =mean_squared_error(search_pls.best_estimator_.predict(X_test_scaled), test_set[target])\n",
    "print(\"Test MSE: \" + str(error_pls))"
   ]
  },
  {
   "cell_type": "markdown",
   "metadata": {},
   "source": [
    "# Comment On Findings\n",
    "\n",
    "Lasso and Ridge Regression both perform really well in terms of mean-squared-error. PCR,PLS perform better than OLS and have near identical MSEs; however, they differ signifigantly in terms of optimal number of paramters. I'm not quite sure what that means.  \n",
    "\n",
    "How well can we predict median value?\n",
    "On average we are off by 24,000 which could be signifigant depending on how valuable the neighbourhood is. If med_val is 100,000, this model could be off by 25%, which strikes me as actually very poor performance. "
   ]
  },
  {
   "cell_type": "code",
   "execution_count": null,
   "metadata": {},
   "outputs": [],
   "source": []
  }
 ],
 "metadata": {
  "kernelspec": {
   "display_name": "Python 3",
   "language": "python",
   "name": "python3"
  },
  "language_info": {
   "codemirror_mode": {
    "name": "ipython",
    "version": 3
   },
   "file_extension": ".py",
   "mimetype": "text/x-python",
   "name": "python",
   "nbconvert_exporter": "python",
   "pygments_lexer": "ipython3",
   "version": "3.6.6"
  }
 },
 "nbformat": 4,
 "nbformat_minor": 1
}
